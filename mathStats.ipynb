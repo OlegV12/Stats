{
  "nbformat": 4,
  "nbformat_minor": 0,
  "metadata": {
    "colab": {
      "name": "mathStats.ipynb",
      "provenance": [],
      "collapsed_sections": [],
      "authorship_tag": "ABX9TyO2m2VubwT65Vyh+Qt3PQUe",
      "include_colab_link": true
    },
    "kernelspec": {
      "name": "python3",
      "display_name": "Python 3"
    },
    "language_info": {
      "name": "python"
    }
  },
  "cells": [
    {
      "cell_type": "markdown",
      "metadata": {
        "id": "view-in-github",
        "colab_type": "text"
      },
      "source": [
        "<a href=\"https://colab.research.google.com/github/OlegV12/Stats/blob/Lesson_5/mathStats.ipynb\" target=\"_parent\"><img src=\"https://colab.research.google.com/assets/colab-badge.svg\" alt=\"Open In Colab\"/></a>"
      ]
    },
    {
      "cell_type": "code",
      "metadata": {
        "id": "4HrF_GhKthyj"
      },
      "source": [
        "from math import factorial, pow, e, pi"
      ],
      "execution_count": 3,
      "outputs": []
    },
    {
      "cell_type": "code",
      "metadata": {
        "id": "krmfVMmMuaX7"
      },
      "source": [
        "import numpy as np\n",
        "from scipy.stats import norm"
      ],
      "execution_count": 6,
      "outputs": []
    },
    {
      "cell_type": "code",
      "metadata": {
        "id": "73v_XUpxyhUR"
      },
      "source": [
        "\n",
        "def combinations(n, k):\n",
        "    return int(factorial(n) / (factorial(k) * factorial(n - k)))"
      ],
      "execution_count": null,
      "outputs": []
    },
    {
      "cell_type": "code",
      "metadata": {
        "id": "T-7pURoSp99X"
      },
      "source": [
        "def bernulli(n, k, p):\n",
        "  \"\"\"\n",
        "  :param n number of observations\n",
        "  :param k number of occurrences\n",
        "  :param p probability of occurrence\n",
        "  \"\"\"\n",
        "  return combinations(n, k) * pow(p, k) * pow((1-p), (n-k))"
      ],
      "execution_count": null,
      "outputs": []
    },
    {
      "cell_type": "code",
      "metadata": {
        "id": "Rwn16SRzsVwo"
      },
      "source": [
        "def poisson(n, k, p):\n",
        "  \"\"\"\n",
        "  :param n number of observations\n",
        "  :param k number of occurrences\n",
        "  :param p probability of occurrence\n",
        "  \"\"\"\n",
        "  a = n * p # lambda\n",
        "\n",
        "  return pow(a, k) / factorial(k) * pow(e, (-a))\n",
        "\n"
      ],
      "execution_count": null,
      "outputs": []
    },
    {
      "cell_type": "code",
      "metadata": {
        "id": "odbDPUUN0NGO"
      },
      "source": [
        "def mean_sqrt_dev(a):\n",
        "  res = []\n",
        "  mean = sum(a) / len(a)\n",
        "  for i in a:\n",
        "    res.append(pow((i - mean), 2))\n",
        "  return np.sqrt(sum(res) / len(a)), np.sqrt(sum(res) / (len(a)-1))\n"
      ],
      "execution_count": null,
      "outputs": []
    },
    {
      "cell_type": "code",
      "metadata": {
        "id": "6DR9ADMUk_25"
      },
      "source": [
        "def prob(mu, x, sqd):\n",
        "  return (x-mu)/sqd"
      ],
      "execution_count": null,
      "outputs": []
    },
    {
      "cell_type": "markdown",
      "metadata": {
        "id": "mSZ6ps6rxnC6"
      },
      "source": [
        "Известно, что генеральная совокупность распределена нормально\n",
        "со средним квадратическим отклонением, равным 16.\n",
        "Найти доверительный интервал для оценки математического ожидания a с надежностью 0.95,\n",
        "если выборочная средняя M = 80, а объем выборки n = 256."
      ]
    },
    {
      "cell_type": "code",
      "metadata": {
        "colab": {
          "base_uri": "https://localhost:8080/"
        },
        "id": "kjUntXhMxsxb",
        "outputId": "ea1d4fc2-bf02-4b5a-cfb7-e9589ce92e5d"
      },
      "source": [
        "a1 = 80 - (1.96 * (16 / np.sqrt(256)))\n",
        "a1"
      ],
      "execution_count": 14,
      "outputs": [
        {
          "output_type": "execute_result",
          "data": {
            "text/plain": [
              "78.04"
            ]
          },
          "metadata": {},
          "execution_count": 14
        }
      ]
    },
    {
      "cell_type": "code",
      "metadata": {
        "colab": {
          "base_uri": "https://localhost:8080/"
        },
        "id": "Lvrk3kfJ6HA0",
        "outputId": "05fbd315-befb-424d-cd56-96dc3c95975a"
      },
      "source": [
        "a2 = 80 + (1.96 * (16 / np.sqrt(256)))\n",
        "a2"
      ],
      "execution_count": 18,
      "outputs": [
        {
          "output_type": "execute_result",
          "data": {
            "text/plain": [
              "81.96"
            ]
          },
          "metadata": {},
          "execution_count": 18
        }
      ]
    },
    {
      "cell_type": "markdown",
      "metadata": {
        "id": "aM-r1SE96nx2"
      },
      "source": [
        "Ответ: [78.04, 81.96]"
      ]
    },
    {
      "cell_type": "markdown",
      "metadata": {
        "id": "UulADUKo6xwc"
      },
      "source": [
        "В результате 10 независимых измерений некоторой величины X, выполненных с одинаковой точностью,\n",
        "получены опытные данные:\n",
        "6.9, 6.1, 6.2, 6.8, 7.5, 6.3, 6.4, 6.9, 6.7, 6.1\n",
        "Предполагая, что результаты измерений подчинены нормальному закону распределения вероятностей,\n",
        "оценить истинное значение величины X при помощи доверительного интервала, покрывающего это\n",
        "значение с доверительной вероятностью 0,95."
      ]
    },
    {
      "cell_type": "code",
      "metadata": {
        "id": "_P3btMTy4Onp"
      },
      "source": [
        "x = np.array([6.9, 6.1, 6.2, 6.8, 7.5, 6.3, 6.4, 6.9, 6.7, 6.1])\n",
        "x_mean = 6.59\n"
      ],
      "execution_count": 27,
      "outputs": []
    },
    {
      "cell_type": "code",
      "metadata": {
        "colab": {
          "base_uri": "https://localhost:8080/"
        },
        "id": "IEJNE0Y17fNq",
        "outputId": "99cb4b22-5a61-4871-c59c-794935849a07"
      },
      "source": [
        "a1 = x_mean - (2.262 * (np.std(x, ddof=1)/np.sqrt(10)))\n",
        "a1"
      ],
      "execution_count": 38,
      "outputs": [
        {
          "output_type": "execute_result",
          "data": {
            "text/plain": [
              "6.2675382559124255"
            ]
          },
          "metadata": {},
          "execution_count": 38
        }
      ]
    },
    {
      "cell_type": "code",
      "metadata": {
        "colab": {
          "base_uri": "https://localhost:8080/"
        },
        "id": "wyDdEzZu-RL-",
        "outputId": "4f8390a5-4ca8-4df8-bc70-f7864300e951"
      },
      "source": [
        "a2 = x_mean + (2.262 * (np.std(x, ddof=1)/np.sqrt(10)))\n",
        "a2"
      ],
      "execution_count": 39,
      "outputs": [
        {
          "output_type": "execute_result",
          "data": {
            "text/plain": [
              "6.912461744087574"
            ]
          },
          "metadata": {},
          "execution_count": 39
        }
      ]
    },
    {
      "cell_type": "markdown",
      "metadata": {
        "id": "kn4-yjZhASJx"
      },
      "source": [
        "Ответ: с вероятностью 95% истинное значение величины Х лежит в интервале [6.267, 6.912]"
      ]
    },
    {
      "cell_type": "markdown",
      "metadata": {
        "id": "7BtK7m2EArae"
      },
      "source": [
        "Утверждается, что шарики для подшипников, изготовленные автоматическим станком, имеют средний диаметр 17 мм.\n",
        "Используя односторонний критерий с α=0,05, проверить эту гипотезу, если в выборке из n=100 шариков средний диаметр\n",
        "оказался равным 17.5 мм, а дисперсия известна и равна 4 кв. мм."
      ]
    },
    {
      "cell_type": "markdown",
      "metadata": {
        "id": "HzUPABmIC8mW"
      },
      "source": [
        "H0: mu == mu0\n",
        "\n",
        "H1: mu > mu0"
      ]
    },
    {
      "cell_type": "code",
      "metadata": {
        "id": "Od-QurkuAsgn"
      },
      "source": [
        "z_t = 1.65"
      ],
      "execution_count": 41,
      "outputs": []
    },
    {
      "cell_type": "code",
      "metadata": {
        "colab": {
          "base_uri": "https://localhost:8080/"
        },
        "id": "AAIBbA5QDmcr",
        "outputId": "fc941e32-b026-4da9-c1f8-573275c5afed"
      },
      "source": [
        "z = (17.5 - 17 ) / (np.sqrt(4) / np.sqrt(100))  \n",
        "z"
      ],
      "execution_count": 43,
      "outputs": [
        {
          "output_type": "execute_result",
          "data": {
            "text/plain": [
              "2.5"
            ]
          },
          "metadata": {},
          "execution_count": 43
        }
      ]
    },
    {
      "cell_type": "code",
      "metadata": {
        "colab": {
          "base_uri": "https://localhost:8080/"
        },
        "id": "NB1rkZJBIVhF",
        "outputId": "ffde6294-eb84-4515-89ca-d6e504a4ee8d"
      },
      "source": [
        "z > z_t"
      ],
      "execution_count": 44,
      "outputs": [
        {
          "output_type": "execute_result",
          "data": {
            "text/plain": [
              "True"
            ]
          },
          "metadata": {},
          "execution_count": 44
        }
      ]
    },
    {
      "cell_type": "markdown",
      "metadata": {
        "id": "OjLNhna0H__d"
      },
      "source": [
        "Ответ: верна альтернативная гипотеза"
      ]
    },
    {
      "cell_type": "markdown",
      "metadata": {
        "id": "bxlUsF9BIaXn"
      },
      "source": [
        "Продавец утверждает, что средний вес пачки печенья составляет 200 г.\n",
        "Из партии извлечена выборка из 10 пачек. Вес каждой пачки составляет:\n",
        "202, 203, 199, 197, 195, 201, 200, 204, 194, 190.\n",
        "Известно, что их веса распределены нормально.\n",
        "Верно ли утверждение продавца, если учитывать, что доверительная вероятность равна 99%?"
      ]
    },
    {
      "cell_type": "markdown",
      "metadata": {
        "id": "jjT9L461Ic9r"
      },
      "source": [
        "H0: mu == mu0\n",
        "\n",
        "H1: mu != mu0"
      ]
    },
    {
      "cell_type": "code",
      "metadata": {
        "id": "pTRrh1GDIity"
      },
      "source": [
        "x = np.array([202, 203, 199, 197, 195, 201, 200, 204, 194, 190])"
      ],
      "execution_count": 56,
      "outputs": []
    },
    {
      "cell_type": "code",
      "metadata": {
        "id": "kH0KxOR7Iq67"
      },
      "source": [
        "t_t = 3.249"
      ],
      "execution_count": 57,
      "outputs": []
    },
    {
      "cell_type": "code",
      "metadata": {
        "colab": {
          "base_uri": "https://localhost:8080/"
        },
        "id": "wqqioH9bJYok",
        "outputId": "abc86de8-e880-4a35-ae56-9900c0225824"
      },
      "source": [
        "x_std = np.std(x, ddof=1)\n",
        "t = (np.mean(x) - 200 ) / (x_std / np.sqrt(10))\n",
        "t"
      ],
      "execution_count": 58,
      "outputs": [
        {
          "output_type": "execute_result",
          "data": {
            "text/plain": [
              "-1.0651074037450896"
            ]
          },
          "metadata": {},
          "execution_count": 58
        }
      ]
    },
    {
      "cell_type": "markdown",
      "metadata": {
        "id": "VyjYa37TTTIX"
      },
      "source": [
        "Ответ: т.к. t-расчетное лежит в интервале от -3.249 сигм до +3.249 сигм, принимается нулевая гипотеза, утверждение продавца верно. \n"
      ]
    }
  ]
}