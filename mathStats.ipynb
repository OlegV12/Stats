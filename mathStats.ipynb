{
  "nbformat": 4,
  "nbformat_minor": 0,
  "metadata": {
    "colab": {
      "name": "mathStats.ipynb",
      "provenance": [],
      "collapsed_sections": [],
      "authorship_tag": "ABX9TyOcCT0zPqThoUFGuELBujYU",
      "include_colab_link": true
    },
    "kernelspec": {
      "name": "python3",
      "display_name": "Python 3"
    },
    "language_info": {
      "name": "python"
    }
  },
  "cells": [
    {
      "cell_type": "markdown",
      "metadata": {
        "id": "view-in-github",
        "colab_type": "text"
      },
      "source": [
        "<a href=\"https://colab.research.google.com/github/OlegV12/Stats/blob/Lesson_7/mathStats.ipynb\" target=\"_parent\"><img src=\"https://colab.research.google.com/assets/colab-badge.svg\" alt=\"Open In Colab\"/></a>"
      ]
    },
    {
      "cell_type": "code",
      "metadata": {
        "id": "4HrF_GhKthyj"
      },
      "source": [
        "from math import factorial, pow, e, pi"
      ],
      "execution_count": null,
      "outputs": []
    },
    {
      "cell_type": "code",
      "metadata": {
        "id": "krmfVMmMuaX7"
      },
      "source": [
        "import numpy as np\n",
        "from scipy.stats import norm\n",
        "import pandas as pd"
      ],
      "execution_count": 5,
      "outputs": []
    },
    {
      "cell_type": "code",
      "metadata": {
        "id": "73v_XUpxyhUR"
      },
      "source": [
        "\n",
        "def combinations(n, k):\n",
        "    return int(factorial(n) / (factorial(k) * factorial(n - k)))"
      ],
      "execution_count": null,
      "outputs": []
    },
    {
      "cell_type": "code",
      "metadata": {
        "id": "T-7pURoSp99X"
      },
      "source": [
        "def bernulli(n, k, p):\n",
        "  \"\"\"\n",
        "  :param n number of observations\n",
        "  :param k number of occurrences\n",
        "  :param p probability of occurrence\n",
        "  \"\"\"\n",
        "  return combinations(n, k) * pow(p, k) * pow((1-p), (n-k))"
      ],
      "execution_count": null,
      "outputs": []
    },
    {
      "cell_type": "code",
      "metadata": {
        "id": "Rwn16SRzsVwo"
      },
      "source": [
        "def poisson(n, k, p):\n",
        "  \"\"\"\n",
        "  :param n number of observations\n",
        "  :param k number of occurrences\n",
        "  :param p probability of occurrence\n",
        "  \"\"\"\n",
        "  a = n * p # lambda\n",
        "\n",
        "  return pow(a, k) / factorial(k) * pow(e, (-a))\n",
        "\n"
      ],
      "execution_count": null,
      "outputs": []
    },
    {
      "cell_type": "code",
      "metadata": {
        "id": "odbDPUUN0NGO"
      },
      "source": [
        "def mean_sqrt_dev(a):\n",
        "  res = []\n",
        "  mean = sum(a) / len(a)\n",
        "  for i in a:\n",
        "    res.append(pow((i - mean), 2))\n",
        "  return np.sqrt(sum(res) / len(a)), np.sqrt(sum(res) / (len(a)-1))\n"
      ],
      "execution_count": null,
      "outputs": []
    },
    {
      "cell_type": "code",
      "metadata": {
        "id": "6DR9ADMUk_25"
      },
      "source": [
        "def prob(mu, x, sqd):\n",
        "  return (x-mu)/sqd"
      ],
      "execution_count": null,
      "outputs": []
    },
    {
      "cell_type": "markdown",
      "metadata": {
        "id": "nvsOq4ZH8V67"
      },
      "source": [
        "Даны значения величины заработной платы заемщиков банка (zp) и значения их поведенческого кредитного скоринга (ks): zp = [35, 45, 190, 200, 40, 70, 54, 150, 120, 110], ks = [401, 574, 874, 919, 459, 739, 653, 902, 746, 832]. Используя математические операции, посчитать коэффициенты линейной регрессии, приняв за X заработную плату (то есть, zp - признак), а за y - значения скорингового балла (то есть, ks - целевая переменная). Произвести расчет как с использованием intercept, так и без."
      ]
    },
    {
      "cell_type": "code",
      "metadata": {
        "id": "fkPY9tTG8YMY"
      },
      "source": [
        "X = np.array([35, 45, 190, 200, 40, 70, 54, 150, 120, 110])\n",
        "y = np.array([401, 574, 874, 919, 459, 739, 653, 902, 746, 832])\n"
      ],
      "execution_count": 132,
      "outputs": []
    },
    {
      "cell_type": "code",
      "metadata": {
        "id": "-lmpHMFn_HjL"
      },
      "source": [
        "X = X.reshape(len(X), 1)\n",
        "y = y.reshape(len(y), 1)"
      ],
      "execution_count": 133,
      "outputs": []
    },
    {
      "cell_type": "code",
      "metadata": {
        "colab": {
          "base_uri": "https://localhost:8080/"
        },
        "id": "oP16cDtsAThy",
        "outputId": "0cf80fa5-59d1-4a3b-82f1-f56e1d2ef99d"
      },
      "source": [
        "X = np.hstack([np.ones((10, 1)), X])\n",
        "X"
      ],
      "execution_count": 134,
      "outputs": [
        {
          "output_type": "execute_result",
          "data": {
            "text/plain": [
              "array([[  1.,  35.],\n",
              "       [  1.,  45.],\n",
              "       [  1., 190.],\n",
              "       [  1., 200.],\n",
              "       [  1.,  40.],\n",
              "       [  1.,  70.],\n",
              "       [  1.,  54.],\n",
              "       [  1., 150.],\n",
              "       [  1., 120.],\n",
              "       [  1., 110.]])"
            ]
          },
          "metadata": {},
          "execution_count": 134
        }
      ]
    },
    {
      "cell_type": "code",
      "metadata": {
        "colab": {
          "base_uri": "https://localhost:8080/"
        },
        "id": "lerigMBX_vWS",
        "outputId": "530fe20f-0c7b-4322-ea43-6275bd79bf62"
      },
      "source": [
        "b = np.dot(np.linalg.inv(np.dot(X.T, X)), X.T@y)\n",
        "b"
      ],
      "execution_count": 135,
      "outputs": [
        {
          "output_type": "execute_result",
          "data": {
            "text/plain": [
              "array([[444.17735732],\n",
              "       [  2.62053888]])"
            ]
          },
          "metadata": {},
          "execution_count": 135
        }
      ]
    },
    {
      "cell_type": "markdown",
      "metadata": {
        "id": "FzxpaMFOCS5W"
      },
      "source": [
        "y = 444.177 + 2.62*x"
      ]
    },
    {
      "cell_type": "code",
      "metadata": {
        "colab": {
          "base_uri": "https://localhost:8080/"
        },
        "id": "JX5k-HpXCkOs",
        "outputId": "bdb31aae-ae54-4876-89b7-af6959f5f5f9"
      },
      "source": [
        "# вариант без intercept\n",
        "X = np.array([35, 45, 190, 200, 40, 70, 54, 150, 120, 110])\n",
        "y = np.array([401, 574, 874, 919, 459, 739, 653, 902, 746, 832])\n",
        "X = X.reshape(len(X), 1)\n",
        "y = y.reshape(len(y), 1)\n",
        "b = np.dot(np.linalg.inv(np.dot(X.T, X)), X.T@y)\n",
        "b"
      ],
      "execution_count": 30,
      "outputs": [
        {
          "output_type": "execute_result",
          "data": {
            "text/plain": [
              "array([[5.88982042]])"
            ]
          },
          "metadata": {},
          "execution_count": 30
        }
      ]
    },
    {
      "cell_type": "markdown",
      "metadata": {
        "id": "CGCKg0ZSDSbb"
      },
      "source": [
        "y = 5.8898*x"
      ]
    },
    {
      "cell_type": "markdown",
      "metadata": {
        "id": "BqNNdhN_DXEC"
      },
      "source": [
        "Посчитать коэффициент линейной регрессии при заработной плате (zp), используя градиентный спуск (без intercept)."
      ]
    },
    {
      "cell_type": "code",
      "metadata": {
        "id": "Gg8YEyG0DlSl"
      },
      "source": [
        "def mse (X, y, b1):\n",
        "  return np.sum((b1*X-y)**2)/len(X)"
      ],
      "execution_count": 33,
      "outputs": []
    },
    {
      "cell_type": "code",
      "metadata": {
        "id": "Ai7XPrSWMZ4u"
      },
      "source": [
        "x = np.array([35, 45, 190, 200, 40, 70, 54, 150, 120, 110])\n",
        "y = np.array([401, 574, 874, 919, 459, 739, 653, 902, 746, 832])\n",
        "B1 = 1\n",
        "alpha = 1e-6\n",
        "for i in range(500):\n",
        "  B1 -= alpha*(2/10)*np.sum((B1*x-y)*x) \n",
        "  print (B1, mse(x, y, B1))"
      ],
      "execution_count": null,
      "outputs": []
    },
    {
      "cell_type": "markdown",
      "metadata": {
        "id": "UoB9xDS_PlWo"
      },
      "source": [
        "Ответ: коэфицент 5.8898"
      ]
    },
    {
      "cell_type": "markdown",
      "metadata": {
        "id": "PPEf9osXP9Kz"
      },
      "source": [
        "В каких случаях для вычисления доверительных интервалов и проверки статистических гипотез используется таблица значений функции Лапласа, а в каких - таблица критических точек распределения Стьюдента? "
      ]
    },
    {
      "cell_type": "markdown",
      "metadata": {
        "id": "hpNhnA0NsBW9"
      },
      "source": [
        "Для небольших выборок используется таблица критических точек распределения Стьюдента, при больших колличествах наблюдений показания в таблицах равны. "
      ]
    },
    {
      "cell_type": "markdown",
      "metadata": {
        "id": "os9jBWlp5d4r"
      },
      "source": [
        "Произвести вычисления как в пункте 2, но с вычислением intercept. Учесть, что изменение коэффициентов должно производиться на каждом шаге одновременно (то есть изменение одного коэффициента не должно влиять на изменение другого во время одной итерации)."
      ]
    },
    {
      "cell_type": "code",
      "metadata": {
        "colab": {
          "base_uri": "https://localhost:8080/"
        },
        "id": "XE2YTx9q5eti",
        "outputId": "813f7b99-043e-4b01-c9ed-f3f2c28ea390"
      },
      "source": [
        "x = np.array([35, 45, 190, 200, 40, 70, 54, 150, 120, 110])\n",
        "y = np.array([401, 574, 874, 919, 459, 739, 653, 902, 746, 832])\n",
        "a = 20\n",
        "b = 20\n",
        "\n",
        "alpha = 1e-5\n",
        "for i in range(2000000):\n",
        "\n",
        "  a_temp = a\n",
        "  b_temp = b\n",
        "\n",
        "  a -= alpha*(2/10)*np.sum(((a_temp*x+b_temp)-y)*x) \n",
        "\n",
        "  b -= alpha*(2/10)*np.sum((a_temp*x + b_temp)-y)\n",
        " \n",
        "print (a,b)"
      ],
      "execution_count": 150,
      "outputs": [
        {
          "output_type": "stream",
          "text": [
            "2.6206613935254026 444.1607127912527\n"
          ],
          "name": "stdout"
        }
      ]
    }
  ]
}