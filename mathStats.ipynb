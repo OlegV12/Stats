{
  "nbformat": 4,
  "nbformat_minor": 0,
  "metadata": {
    "colab": {
      "name": "mathStats.ipynb",
      "provenance": [],
      "collapsed_sections": [],
      "authorship_tag": "ABX9TyPWsO+tRITqDQy4DRMS8sJ/",
      "include_colab_link": true
    },
    "kernelspec": {
      "name": "python3",
      "display_name": "Python 3"
    },
    "language_info": {
      "name": "python"
    }
  },
  "cells": [
    {
      "cell_type": "markdown",
      "metadata": {
        "id": "view-in-github",
        "colab_type": "text"
      },
      "source": [
        "<a href=\"https://colab.research.google.com/github/OlegV12/Stats/blob/Lesson_1/mathStats.ipynb\" target=\"_parent\"><img src=\"https://colab.research.google.com/assets/colab-badge.svg\" alt=\"Open In Colab\"/></a>"
      ]
    },
    {
      "cell_type": "markdown",
      "metadata": {
        "id": "vHhtssOMynY3"
      },
      "source": [
        "Из колоды в 52 карты извлекаются случайным образом 4 карты. a) Найти вероятность того, что все карты – крести. б) Найти вероятность, что среди 4-х карт окажется хотя бы один туз."
      ]
    },
    {
      "cell_type": "code",
      "metadata": {
        "id": "73v_XUpxyhUR"
      },
      "source": [
        "from math import factorial\n",
        "def combinations(n, k):\n",
        "    return int(factorial(n) / (factorial(k) * factorial(n - k)))"
      ],
      "execution_count": null,
      "outputs": []
    },
    {
      "cell_type": "code",
      "metadata": {
        "colab": {
          "base_uri": "https://localhost:8080/"
        },
        "id": "3N2vY0k20Pjj",
        "outputId": "0e5c1c7d-95e5-4c97-eef9-819913ebfffe"
      },
      "source": [
        "# all clubs combination\n",
        "all_clubs = combinations(13, 4)\n",
        "all_clubs"
      ],
      "execution_count": null,
      "outputs": [
        {
          "output_type": "execute_result",
          "data": {
            "text/plain": [
              "715"
            ]
          },
          "metadata": {
            "tags": []
          },
          "execution_count": 27
        }
      ]
    },
    {
      "cell_type": "code",
      "metadata": {
        "colab": {
          "base_uri": "https://localhost:8080/"
        },
        "id": "pm90W01_7ORO",
        "outputId": "96fbdbfd-ca57-4198-a0f9-06f7a7efbc2c"
      },
      "source": [
        "# all 4 cards combinations\n",
        "total = combinations(52, 4)\n",
        "total"
      ],
      "execution_count": null,
      "outputs": [
        {
          "output_type": "execute_result",
          "data": {
            "text/plain": [
              "270725"
            ]
          },
          "metadata": {
            "tags": []
          },
          "execution_count": 26
        }
      ]
    },
    {
      "cell_type": "code",
      "metadata": {
        "colab": {
          "base_uri": "https://localhost:8080/"
        },
        "id": "7SQhyztY8gDe",
        "outputId": "84942249-f46a-427e-ff2a-197524588ee8"
      },
      "source": [
        "# probability\n",
        "P = all_clubs / total\n",
        "P"
      ],
      "execution_count": null,
      "outputs": [
        {
          "output_type": "execute_result",
          "data": {
            "text/plain": [
              "0.0026410564225690276"
            ]
          },
          "metadata": {
            "tags": []
          },
          "execution_count": 28
        }
      ]
    },
    {
      "cell_type": "markdown",
      "metadata": {
        "id": "cFPnkwi7-vwt"
      },
      "source": [
        "а) Ответ: 0.0026410564225690276 или 715/270725"
      ]
    },
    {
      "cell_type": "code",
      "metadata": {
        "colab": {
          "base_uri": "https://localhost:8080/"
        },
        "id": "UR8eF5CfKCO9",
        "outputId": "c2fbeffd-e9b9-4d8d-d440-b40438358d10"
      },
      "source": [
        "# inverted probability of no aces among 4 cards \n",
        "1 - (combinations(48, 4) / total)"
      ],
      "execution_count": 35,
      "outputs": [
        {
          "output_type": "execute_result",
          "data": {
            "text/plain": [
              "0.2812632745405854"
            ]
          },
          "metadata": {
            "tags": []
          },
          "execution_count": 35
        }
      ]
    },
    {
      "cell_type": "markdown",
      "metadata": {
        "id": "bMAewfAvKspy"
      },
      "source": [
        "б) Ответ: 0.2812632745405854"
      ]
    },
    {
      "cell_type": "markdown",
      "metadata": {
        "id": "_OpLrDTr_pzE"
      },
      "source": [
        "На входной двери подъезда установлен кодовый замок, содержащий десять кнопок с цифрами от 0 до 9. Код содержит три цифры, которые нужно нажать одновременно. Какова вероятность того, что человек, не знающий код, откроет дверь с первой попытки?"
      ]
    },
    {
      "cell_type": "code",
      "metadata": {
        "colab": {
          "base_uri": "https://localhost:8080/"
        },
        "id": "-LVr80Lc_qkS",
        "outputId": "985894c5-5e20-4185-c6c2-3b9546907931"
      },
      "source": [
        "lock_comb = combinations(10, 3)\n",
        "lock_comb"
      ],
      "execution_count": 40,
      "outputs": [
        {
          "output_type": "execute_result",
          "data": {
            "text/plain": [
              "120"
            ]
          },
          "metadata": {
            "tags": []
          },
          "execution_count": 40
        }
      ]
    },
    {
      "cell_type": "markdown",
      "metadata": {
        "id": "7qykxg2AAA4f"
      },
      "source": [
        "Ответ: 1/120"
      ]
    },
    {
      "cell_type": "markdown",
      "metadata": {
        "id": "jAGzyw3uAEhh"
      },
      "source": [
        "В ящике имеется 15 деталей, из которых 9 окрашены. Рабочий случайным образом извлекает 3 детали. Какова вероятность того, что все извлеченные детали окрашены?"
      ]
    },
    {
      "cell_type": "code",
      "metadata": {
        "colab": {
          "base_uri": "https://localhost:8080/"
        },
        "id": "dR3VOpE3AOcu",
        "outputId": "3dd57692-708e-4193-ecbc-1ae5c0fb131c"
      },
      "source": [
        "total_tools_combinations = combinations(15, 3)\n",
        "painted_tools_combinations = combinations(9, 3)\n",
        "total_tools_combinations, painted_tools_combinations"
      ],
      "execution_count": 38,
      "outputs": [
        {
          "output_type": "execute_result",
          "data": {
            "text/plain": [
              "(455, 84)"
            ]
          },
          "metadata": {
            "tags": []
          },
          "execution_count": 38
        }
      ]
    },
    {
      "cell_type": "code",
      "metadata": {
        "colab": {
          "base_uri": "https://localhost:8080/"
        },
        "id": "9EEW9fSdAgIi",
        "outputId": "ea0cd63d-07d5-475f-d1d3-79eb41c827ea"
      },
      "source": [
        "result = painted_tools_combinations / total_tools_combinations\n",
        "result\n"
      ],
      "execution_count": 39,
      "outputs": [
        {
          "output_type": "execute_result",
          "data": {
            "text/plain": [
              "0.18461538461538463"
            ]
          },
          "metadata": {
            "tags": []
          },
          "execution_count": 39
        }
      ]
    },
    {
      "cell_type": "markdown",
      "metadata": {
        "id": "QCNZa3UtBwf-"
      },
      "source": [
        "Ответ: 84/455 или 0.18461538461538463"
      ]
    },
    {
      "cell_type": "markdown",
      "metadata": {
        "id": "llvv3xPqA7KD"
      },
      "source": [
        "В лотерее 100 билетов. Из них 2 выигрышных. Какова вероятность того, что 2 приобретенных билета окажутся выигрышными?"
      ]
    },
    {
      "cell_type": "code",
      "metadata": {
        "colab": {
          "base_uri": "https://localhost:8080/"
        },
        "id": "FhwKr39xA_Hz",
        "outputId": "1810cc5a-7446-4dfb-b525-af204991372c"
      },
      "source": [
        "2/100 * 2/100"
      ],
      "execution_count": null,
      "outputs": [
        {
          "output_type": "execute_result",
          "data": {
            "text/plain": [
              "0.0004"
            ]
          },
          "metadata": {
            "tags": []
          },
          "execution_count": 23
        }
      ]
    },
    {
      "cell_type": "markdown",
      "metadata": {
        "id": "1QB7x8jnB4BC"
      },
      "source": [
        "Ответ: 0.0004"
      ]
    }
  ]
}