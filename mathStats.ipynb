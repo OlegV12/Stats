{
  "nbformat": 4,
  "nbformat_minor": 0,
  "metadata": {
    "colab": {
      "name": "mathStats.ipynb",
      "provenance": [],
      "collapsed_sections": [],
      "authorship_tag": "ABX9TyMo8Bo0lk6odJYRD1k7CYSm",
      "include_colab_link": true
    },
    "kernelspec": {
      "name": "python3",
      "display_name": "Python 3"
    },
    "language_info": {
      "name": "python"
    }
  },
  "cells": [
    {
      "cell_type": "markdown",
      "metadata": {
        "id": "view-in-github",
        "colab_type": "text"
      },
      "source": [
        "<a href=\"https://colab.research.google.com/github/OlegV12/Stats/blob/Lesson_2/mathStats.ipynb\" target=\"_parent\"><img src=\"https://colab.research.google.com/assets/colab-badge.svg\" alt=\"Open In Colab\"/></a>"
      ]
    },
    {
      "cell_type": "code",
      "metadata": {
        "id": "4HrF_GhKthyj"
      },
      "source": [
        "from math import factorial, pow, e"
      ],
      "execution_count": null,
      "outputs": []
    },
    {
      "cell_type": "code",
      "metadata": {
        "id": "73v_XUpxyhUR"
      },
      "source": [
        "\n",
        "def combinations(n, k):\n",
        "    return int(factorial(n) / (factorial(k) * factorial(n - k)))"
      ],
      "execution_count": 37,
      "outputs": []
    },
    {
      "cell_type": "code",
      "metadata": {
        "id": "T-7pURoSp99X"
      },
      "source": [
        "def bernulli(n, k, p):\n",
        "  \"\"\"\n",
        "  :param n number of observations\n",
        "  :param k number of occurrences\n",
        "  :param p probability of occurrence\n",
        "  \"\"\"\n",
        "  return combinations(n, k) * pow(p, k) * pow((1-p), (n-k))"
      ],
      "execution_count": 3,
      "outputs": []
    },
    {
      "cell_type": "code",
      "metadata": {
        "id": "Rwn16SRzsVwo"
      },
      "source": [
        "def poisson(n, k, p):\n",
        "  \"\"\"\n",
        "  :param n number of observations\n",
        "  :param k number of occurrences\n",
        "  :param p probability of occurrence\n",
        "  \"\"\"\n",
        "  a = n * p # lambda\n",
        "\n",
        "  return pow(a, k) / factorial(k) * pow(e, (-a))\n",
        "\n"
      ],
      "execution_count": 50,
      "outputs": []
    },
    {
      "cell_type": "markdown",
      "metadata": {
        "id": "vHhtssOMynY3"
      },
      "source": [
        "Вероятность того, что стрелок попадет в мишень, выстрелив один раз, равна 0.8. Стрелок выстрелил 100 раз. Найдите вероятность того, что стрелок попадет в цель ровно 85 раз."
      ]
    },
    {
      "cell_type": "code",
      "metadata": {
        "colab": {
          "base_uri": "https://localhost:8080/"
        },
        "id": "qDRJ2ZsUqlOK",
        "outputId": "67d1493b-dcd1-49a6-bec2-635c4bce562d"
      },
      "source": [
        "result = bernulli(100, 85, 0.8)\n",
        "result"
      ],
      "execution_count": 36,
      "outputs": [
        {
          "output_type": "execute_result",
          "data": {
            "text/plain": [
              "0.048061793700746355"
            ]
          },
          "metadata": {
            "tags": []
          },
          "execution_count": 36
        }
      ]
    },
    {
      "cell_type": "markdown",
      "metadata": {
        "id": "8NSQJB1ZliZF"
      },
      "source": [
        "Вероятность того, что лампочка перегорит в течение первого дня эксплуатации, равна 0.0004. В жилом комплексе после ремонта в один день включили 5000 новых лампочек. Какова вероятность, что ни одна из них не перегорит в первый день? Какова вероятность, что перегорят ровно две?"
      ]
    },
    {
      "cell_type": "code",
      "metadata": {
        "colab": {
          "base_uri": "https://localhost:8080/"
        },
        "id": "DbzUFjo_sEbI",
        "outputId": "e113e622-5fce-4bf6-84f8-077097b3827d"
      },
      "source": [
        "result = poisson(5000, 0, 0.0004)\n",
        "result"
      ],
      "execution_count": 51,
      "outputs": [
        {
          "output_type": "execute_result",
          "data": {
            "text/plain": [
              "0.1353352832366127"
            ]
          },
          "metadata": {
            "tags": []
          },
          "execution_count": 51
        }
      ]
    },
    {
      "cell_type": "markdown",
      "metadata": {
        "id": "HuUvWqFUphC4"
      },
      "source": [
        "Ответ: ни одна не перегорит с вероятностью 0.13528114551440706"
      ]
    },
    {
      "cell_type": "code",
      "metadata": {
        "colab": {
          "base_uri": "https://localhost:8080/"
        },
        "id": "5ru22xcusNah",
        "outputId": "734c136b-6972-4c84-fb94-cad551abcde7"
      },
      "source": [
        "result = poisson(5000, 2, 0.0004)\n",
        "result"
      ],
      "execution_count": 52,
      "outputs": [
        {
          "output_type": "execute_result",
          "data": {
            "text/plain": [
              "0.2706705664732254"
            ]
          },
          "metadata": {
            "tags": []
          },
          "execution_count": 52
        }
      ]
    },
    {
      "cell_type": "markdown",
      "metadata": {
        "id": "6vJbocl_ppma"
      },
      "source": [
        "Ответ: перегорят две с вероятностью 0.2706705664732254"
      ]
    },
    {
      "cell_type": "markdown",
      "metadata": {
        "id": "G3hMtEYQo9LO"
      },
      "source": [
        "Монету подбросили 144 раза. Какова вероятность, что орел выпадет ровно 70 раз?"
      ]
    },
    {
      "cell_type": "code",
      "metadata": {
        "colab": {
          "base_uri": "https://localhost:8080/"
        },
        "id": "HrsC6gpHsU1O",
        "outputId": "68785e08-1e02-4637-b150-2fdfe8cdc8ba"
      },
      "source": [
        "result = bernulli(144, 70, 0.5)\n",
        "result"
      ],
      "execution_count": 53,
      "outputs": [
        {
          "output_type": "execute_result",
          "data": {
            "text/plain": [
              "0.06281178035144776"
            ]
          },
          "metadata": {
            "tags": []
          },
          "execution_count": 53
        }
      ]
    },
    {
      "cell_type": "markdown",
      "metadata": {
        "id": "shGJP86u8JIl"
      },
      "source": [
        "Ответ: вероятность выпадения орла 0.06281178035144776"
      ]
    },
    {
      "cell_type": "markdown",
      "metadata": {
        "id": "e_tEtSO4wCO7"
      },
      "source": [
        "В первом ящике находится 10 мячей, из которых 7 - белые. Во втором ящике - 11 мячей, из которых 9 белых. Из каждого ящика вытаскивают случайным образом по два мяча. Какова вероятность того, что все мячи белые? Какова вероятность того, что ровно два мяча белые? Какова вероятность того, что хотя бы один мяч белый?"
      ]
    },
    {
      "cell_type": "code",
      "metadata": {
        "colab": {
          "base_uri": "https://localhost:8080/"
        },
        "id": "0ErEoHJ5wDCG",
        "outputId": "10b14eac-d971-4144-f0bc-201786f5ed01"
      },
      "source": [
        "# all white balls from 1st basket\n",
        "all_combinations_1 = combinations(10, 2)\n",
        "white_balls_combinations_1 = combinations(7, 2)\n",
        "result_1 = white_balls_combinations_1/all_combinations_1\n",
        "result_1"
      ],
      "execution_count": 15,
      "outputs": [
        {
          "output_type": "execute_result",
          "data": {
            "text/plain": [
              "0.4666666666666667"
            ]
          },
          "metadata": {
            "tags": []
          },
          "execution_count": 15
        }
      ]
    },
    {
      "cell_type": "code",
      "metadata": {
        "colab": {
          "base_uri": "https://localhost:8080/"
        },
        "id": "GuexAsWdoItC",
        "outputId": "0483afcd-8d23-4fee-c5aa-7e6a360f2f45"
      },
      "source": [
        "# all white balls from 2nd basket\n",
        "all_combinations_2 = combinations(11, 2)\n",
        "white_balls_combinations_2 = combinations(9, 2)\n",
        "result_2 = white_balls_combinations_2/all_combinations_2\n",
        "result_2"
      ],
      "execution_count": 16,
      "outputs": [
        {
          "output_type": "execute_result",
          "data": {
            "text/plain": [
              "0.6545454545454545"
            ]
          },
          "metadata": {
            "tags": []
          },
          "execution_count": 16
        }
      ]
    },
    {
      "cell_type": "code",
      "metadata": {
        "colab": {
          "base_uri": "https://localhost:8080/"
        },
        "id": "Wb2Rz3F7o97Q",
        "outputId": "bb1664ee-503d-4e74-9c5f-0f7b33c01ff4"
      },
      "source": [
        "result_1 * result_2"
      ],
      "execution_count": 18,
      "outputs": [
        {
          "output_type": "execute_result",
          "data": {
            "text/plain": [
              "0.3054545454545455"
            ]
          },
          "metadata": {
            "tags": []
          },
          "execution_count": 18
        }
      ]
    },
    {
      "cell_type": "markdown",
      "metadata": {
        "id": "Id_IixddbbCH"
      },
      "source": [
        "Ответ: все мячи белые с вероятностью 0.3054545454545455"
      ]
    },
    {
      "cell_type": "code",
      "metadata": {
        "id": "-_wjLG6UbPB7"
      },
      "source": [
        "# 2 white balls from 1st basket and 0 white balls from 2nd basket\n",
        "two_and_zero = result_1 * (combinations(2, 2) / all_combinations_2)"
      ],
      "execution_count": 32,
      "outputs": []
    },
    {
      "cell_type": "code",
      "metadata": {
        "id": "ab9ly1RhfXzI"
      },
      "source": [
        "# 0 white balls from 1st basket and 2 white balls from 2nd basket\n",
        "zero_and_two = (combinations(3, 2) / all_combinations_1) * result_2"
      ],
      "execution_count": 29,
      "outputs": []
    },
    {
      "cell_type": "code",
      "metadata": {
        "colab": {
          "base_uri": "https://localhost:8080/"
        },
        "id": "9QzPNhvBgPxJ",
        "outputId": "bbd07d64-d4a3-4206-cfef-4516ae5dd46f"
      },
      "source": [
        "# 1 white ball from 1st basket and 1 white ball from 2nd basket\n",
        "one_and_one = (combinations(7, 1) / all_combinations_1) * (combinations(9, 1) / all_combinations_2)"
      ],
      "execution_count": 31,
      "outputs": [
        {
          "output_type": "execute_result",
          "data": {
            "text/plain": [
              "0.025454545454545455"
            ]
          },
          "metadata": {
            "tags": []
          },
          "execution_count": 31
        }
      ]
    },
    {
      "cell_type": "code",
      "metadata": {
        "colab": {
          "base_uri": "https://localhost:8080/"
        },
        "id": "G4CjmzpMiFVb",
        "outputId": "3b76f137-a156-4989-9a9a-616a776af93a"
      },
      "source": [
        "res = two_and_zero + zero_and_two + one_and_one\n",
        "res"
      ],
      "execution_count": 33,
      "outputs": [
        {
          "output_type": "execute_result",
          "data": {
            "text/plain": [
              "0.07757575757575758"
            ]
          },
          "metadata": {
            "tags": []
          },
          "execution_count": 33
        }
      ]
    },
    {
      "cell_type": "markdown",
      "metadata": {
        "id": "Ez1e9rwjkzhc"
      },
      "source": [
        "Ответ: ровно 2 мяча белые с вероятностью 0.07757575757575758"
      ]
    },
    {
      "cell_type": "code",
      "metadata": {
        "colab": {
          "base_uri": "https://localhost:8080/"
        },
        "id": "xy5NhoAIk9fC",
        "outputId": "2ab92ab0-3c76-4617-a3d0-3a67693ab2dd"
      },
      "source": [
        "# one from first basket\n",
        "first = (combinations(7, 1) / all_combinations_1)\n",
        "\n",
        "# one from second basket\n",
        "second = (combinations(3, 2) / all_combinations_1)\n",
        "\n",
        "at_least_one = first + second - (first * second)\n",
        "at_least_one"
      ],
      "execution_count": 36,
      "outputs": [
        {
          "output_type": "execute_result",
          "data": {
            "text/plain": [
              "0.21185185185185185"
            ]
          },
          "metadata": {
            "tags": []
          },
          "execution_count": 36
        }
      ]
    },
    {
      "cell_type": "markdown",
      "metadata": {
        "id": "3es2900emVu7"
      },
      "source": [
        "Ответ: хотя бы один мяч белый с вероятностью 0.21185185185185185"
      ]
    }
  ]
}