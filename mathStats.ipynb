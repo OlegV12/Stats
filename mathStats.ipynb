{
  "nbformat": 4,
  "nbformat_minor": 0,
  "metadata": {
    "colab": {
      "name": "mathStats.ipynb",
      "provenance": [],
      "collapsed_sections": [],
      "authorship_tag": "ABX9TyNqzNPt5Utmik/blMasOKGq",
      "include_colab_link": true
    },
    "kernelspec": {
      "name": "python3",
      "display_name": "Python 3"
    },
    "language_info": {
      "name": "python"
    }
  },
  "cells": [
    {
      "cell_type": "markdown",
      "metadata": {
        "id": "view-in-github",
        "colab_type": "text"
      },
      "source": [
        "<a href=\"https://colab.research.google.com/github/OlegV12/Stats/blob/Lesson_8/mathStats.ipynb\" target=\"_parent\"><img src=\"https://colab.research.google.com/assets/colab-badge.svg\" alt=\"Open In Colab\"/></a>"
      ]
    },
    {
      "cell_type": "code",
      "metadata": {
        "id": "4HrF_GhKthyj"
      },
      "source": [
        "from math import factorial, pow, e, pi"
      ],
      "execution_count": null,
      "outputs": []
    },
    {
      "cell_type": "code",
      "metadata": {
        "id": "krmfVMmMuaX7"
      },
      "source": [
        "import numpy as np\n",
        "from scipy.stats import norm\n",
        "import pandas as pd"
      ],
      "execution_count": 1,
      "outputs": []
    },
    {
      "cell_type": "code",
      "metadata": {
        "id": "73v_XUpxyhUR"
      },
      "source": [
        "\n",
        "def combinations(n, k):\n",
        "    return int(factorial(n) / (factorial(k) * factorial(n - k)))"
      ],
      "execution_count": null,
      "outputs": []
    },
    {
      "cell_type": "code",
      "metadata": {
        "id": "T-7pURoSp99X"
      },
      "source": [
        "def bernulli(n, k, p):\n",
        "  \"\"\"\n",
        "  :param n number of observations\n",
        "  :param k number of occurrences\n",
        "  :param p probability of occurrence\n",
        "  \"\"\"\n",
        "  return combinations(n, k) * pow(p, k) * pow((1-p), (n-k))"
      ],
      "execution_count": null,
      "outputs": []
    },
    {
      "cell_type": "code",
      "metadata": {
        "id": "Rwn16SRzsVwo"
      },
      "source": [
        "def poisson(n, k, p):\n",
        "  \"\"\"\n",
        "  :param n number of observations\n",
        "  :param k number of occurrences\n",
        "  :param p probability of occurrence\n",
        "  \"\"\"\n",
        "  a = n * p # lambda\n",
        "\n",
        "  return pow(a, k) / factorial(k) * pow(e, (-a))\n",
        "\n"
      ],
      "execution_count": null,
      "outputs": []
    },
    {
      "cell_type": "code",
      "metadata": {
        "id": "odbDPUUN0NGO"
      },
      "source": [
        "def mean_sqrt_dev(a):\n",
        "  res = []\n",
        "  mean = sum(a) / len(a)\n",
        "  for i in a:\n",
        "    res.append(pow((i - mean), 2))\n",
        "  return np.sqrt(sum(res) / len(a)), np.sqrt(sum(res) / (len(a)-1))\n"
      ],
      "execution_count": null,
      "outputs": []
    },
    {
      "cell_type": "code",
      "metadata": {
        "id": "6DR9ADMUk_25"
      },
      "source": [
        "def prob(mu, x, sqd):\n",
        "  return (x-mu)/sqd"
      ],
      "execution_count": null,
      "outputs": []
    },
    {
      "cell_type": "markdown",
      "metadata": {
        "id": "w1vZUgcGy7er"
      },
      "source": [
        "Провести дисперсионный анализ для определения того, есть ли различия среднего роста среди взрослых футболистов, хоккеистов и штангистов. Даны значения роста в трех группах случайно выбранных спортсменов: Футболисты: 173, 175, 180, 178, 177, 185, 183, 182. Хоккеисты: 177, 179, 180, 188, 177, 172, 171, 184, 180. Штангисты: 172, 173, 169, 177, 166, 180, 178, 177, 172, 166, 170."
      ]
    },
    {
      "cell_type": "code",
      "metadata": {
        "id": "JiY-Z9CRy8LM"
      },
      "source": [
        "footballers = np.array([173, 175, 180, 178, 177, 185, 183, 182])\n",
        "hockey_players = np.array([177, 179, 180, 188, 177, 172, 171, 184, 180])\n",
        "weightlifters = np.array([172, 173, 169, 177, 166, 180, 178, 177, 172, 166, 170])"
      ],
      "execution_count": 3,
      "outputs": []
    },
    {
      "cell_type": "code",
      "metadata": {
        "id": "u23mnPPn5Zid"
      },
      "source": [
        "k = 3\n",
        "f_n = len(footballers)\n",
        "h_n = len(hockey_players)\n",
        "w_n = len(weightlifters)"
      ],
      "execution_count": 4,
      "outputs": []
    },
    {
      "cell_type": "code",
      "metadata": {
        "id": "Dm_DCUvM5xkX"
      },
      "source": [
        "y1 = sum(footballers)/f_n\n",
        "y2 = sum(hockey_players)/h_n\n",
        "y3 = sum(weightlifters)/w_n"
      ],
      "execution_count": 15,
      "outputs": []
    },
    {
      "cell_type": "code",
      "metadata": {
        "id": "zJ2ZDU2t6ZKx"
      },
      "source": [
        "Y = (sum(footballers)+sum(hockey_players)+sum(weightlifters))/(f_n+h_n+w_n)"
      ],
      "execution_count": 7,
      "outputs": []
    },
    {
      "cell_type": "code",
      "metadata": {
        "colab": {
          "base_uri": "https://localhost:8080/"
        },
        "id": "nso8gHm-75uL",
        "outputId": "6f8bf247-9e0c-4ddd-b81e-5ea35b6c6272"
      },
      "source": [
        "S = sum((footballers-Y)**2) + sum((hockey_players-Y)**2) + sum((weightlifters-Y)**2)"
      ],
      "execution_count": 11,
      "outputs": [
        {
          "output_type": "execute_result",
          "data": {
            "text/plain": [
              "830.9642857142858"
            ]
          },
          "metadata": {},
          "execution_count": 11
        }
      ]
    },
    {
      "cell_type": "code",
      "metadata": {
        "id": "7KYEqMVw8f9_"
      },
      "source": [
        "S_f = ((y1-Y)**2)*f_n + ((y2-Y)**2)*h_n + ((y3-Y)**2)*w_n"
      ],
      "execution_count": 25,
      "outputs": []
    },
    {
      "cell_type": "code",
      "metadata": {
        "id": "H_yI-EP_-S6M"
      },
      "source": [
        "S_rem = sum((footballers-y1)**2) + sum((hockey_players-y2)**2) + sum((weightlifters-y3)**2)"
      ],
      "execution_count": 16,
      "outputs": []
    },
    {
      "cell_type": "code",
      "metadata": {
        "colab": {
          "base_uri": "https://localhost:8080/"
        },
        "id": "VqEFMd_P-oI6",
        "outputId": "e680c626-647e-4d95-e701-fb4cf3a8bcc4"
      },
      "source": [
        "S1 = S_f + S_rem\n",
        "S1"
      ],
      "execution_count": 17,
      "outputs": [
        {
          "output_type": "execute_result",
          "data": {
            "text/plain": [
              "830.9642857142859"
            ]
          },
          "metadata": {},
          "execution_count": 17
        }
      ]
    },
    {
      "cell_type": "code",
      "metadata": {
        "id": "S9e6JkaI-5gB"
      },
      "source": [
        "f_disp = S_f/ (k - 1)\n",
        "rem_disp = S_rem / ((f_n+h_n+w_n) - k)"
      ],
      "execution_count": 39,
      "outputs": []
    },
    {
      "cell_type": "code",
      "metadata": {
        "colab": {
          "base_uri": "https://localhost:8080/"
        },
        "id": "aDMA5-LC__2K",
        "outputId": "4f040e9b-796f-4521-c760-d90b5273be1f"
      },
      "source": [
        "F = f_disp / rem_disp\n",
        "F"
      ],
      "execution_count": 41,
      "outputs": [
        {
          "output_type": "execute_result",
          "data": {
            "text/plain": [
              "5.500053450812599"
            ]
          },
          "metadata": {},
          "execution_count": 41
        }
      ]
    },
    {
      "cell_type": "markdown",
      "metadata": {
        "id": "XP5ZMcpsA5A3"
      },
      "source": [
        "F по таблице Фишера 3.39"
      ]
    },
    {
      "cell_type": "code",
      "metadata": {
        "id": "KUofRAvpAXeR"
      },
      "source": [
        "from scipy import stats\n"
      ],
      "execution_count": 42,
      "outputs": []
    },
    {
      "cell_type": "code",
      "metadata": {
        "colab": {
          "base_uri": "https://localhost:8080/"
        },
        "id": "3jG_5Qp8BXl0",
        "outputId": "8861b54e-65c3-4512-de1e-eae26b683674"
      },
      "source": [
        "stats.f_oneway(footballers, hockey_players, weightlifters)"
      ],
      "execution_count": 43,
      "outputs": [
        {
          "output_type": "execute_result",
          "data": {
            "text/plain": [
              "F_onewayResult(statistic=5.500053450812596, pvalue=0.010482206918698694)"
            ]
          },
          "metadata": {},
          "execution_count": 43
        }
      ]
    },
    {
      "cell_type": "markdown",
      "metadata": {
        "id": "5TtTh8WgFU_n"
      },
      "source": [
        "Ответ: среди взрослых футболистов, хоккеистов и штангистов существует различие роста при уровне значимости 0.05."
      ]
    }
  ]
}