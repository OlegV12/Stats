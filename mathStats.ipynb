{
  "nbformat": 4,
  "nbformat_minor": 0,
  "metadata": {
    "colab": {
      "name": "mathStats.ipynb",
      "provenance": [],
      "collapsed_sections": [],
      "authorship_tag": "ABX9TyOdF7af2Bha4ByK2PRXFfG6",
      "include_colab_link": true
    },
    "kernelspec": {
      "name": "python3",
      "display_name": "Python 3"
    },
    "language_info": {
      "name": "python"
    }
  },
  "cells": [
    {
      "cell_type": "markdown",
      "metadata": {
        "id": "view-in-github",
        "colab_type": "text"
      },
      "source": [
        "<a href=\"https://colab.research.google.com/github/OlegV12/Stats/blob/Lesson_3/mathStats.ipynb\" target=\"_parent\"><img src=\"https://colab.research.google.com/assets/colab-badge.svg\" alt=\"Open In Colab\"/></a>"
      ]
    },
    {
      "cell_type": "code",
      "metadata": {
        "id": "4HrF_GhKthyj"
      },
      "source": [
        "from math import factorial, pow, e"
      ],
      "execution_count": 119,
      "outputs": []
    },
    {
      "cell_type": "code",
      "metadata": {
        "id": "krmfVMmMuaX7"
      },
      "source": [
        "import numpy as np"
      ],
      "execution_count": 120,
      "outputs": []
    },
    {
      "cell_type": "code",
      "metadata": {
        "id": "73v_XUpxyhUR"
      },
      "source": [
        "\n",
        "def combinations(n, k):\n",
        "    return int(factorial(n) / (factorial(k) * factorial(n - k)))"
      ],
      "execution_count": 121,
      "outputs": []
    },
    {
      "cell_type": "code",
      "metadata": {
        "id": "T-7pURoSp99X"
      },
      "source": [
        "def bernulli(n, k, p):\n",
        "  \"\"\"\n",
        "  :param n number of observations\n",
        "  :param k number of occurrences\n",
        "  :param p probability of occurrence\n",
        "  \"\"\"\n",
        "  return combinations(n, k) * pow(p, k) * pow((1-p), (n-k))"
      ],
      "execution_count": 122,
      "outputs": []
    },
    {
      "cell_type": "code",
      "metadata": {
        "id": "Rwn16SRzsVwo"
      },
      "source": [
        "def poisson(n, k, p):\n",
        "  \"\"\"\n",
        "  :param n number of observations\n",
        "  :param k number of occurrences\n",
        "  :param p probability of occurrence\n",
        "  \"\"\"\n",
        "  a = n * p # lambda\n",
        "\n",
        "  return pow(a, k) / factorial(k) * pow(e, (-a))\n",
        "\n"
      ],
      "execution_count": 123,
      "outputs": []
    },
    {
      "cell_type": "code",
      "metadata": {
        "id": "odbDPUUN0NGO"
      },
      "source": [
        "def mean_sqrt_dev(a):\n",
        "  res = []\n",
        "  mean = sum(a) / len(a)\n",
        "  for i in a:\n",
        "    res.append(pow((i - mean), 2))\n",
        "  return np.sqrt(sum(res) / len(a)), np.sqrt(sum(res) / (len(a)-1))\n"
      ],
      "execution_count": 124,
      "outputs": []
    },
    {
      "cell_type": "markdown",
      "metadata": {
        "id": "0ERZ79T3uHck"
      },
      "source": [
        "Даны значения зарплат из выборки выпускников: 100, 80, 75, 77, 89, 33, 45, 25, 65, 17, 30, 24, 57, 55, 70, 75, 65, 84, 90, 150. Посчитать (желательно без использования статистических методов наподобие std, var, mean) среднее арифметическое, среднее квадратичное отклонение, смещенную и несмещенную оценки дисперсий для данной выборки."
      ]
    },
    {
      "cell_type": "code",
      "metadata": {
        "id": "VornJ-oruVPL"
      },
      "source": [
        "a = np.array([100, 80, 75, 77, 89, 33, 45, 25, 65, 17, 30, 24, 57, 55, 70, 75, 65, 84, 90, 150])"
      ],
      "execution_count": 125,
      "outputs": []
    },
    {
      "cell_type": "code",
      "metadata": {
        "colab": {
          "base_uri": "https://localhost:8080/"
        },
        "id": "f5By8ly6uIsw",
        "outputId": "ed97acb0-6ec2-475a-aabb-571ed3a173e5"
      },
      "source": [
        "# среднее арифметическое\n",
        "mean = sum(a) / len(a)\n",
        "mean"
      ],
      "execution_count": 126,
      "outputs": [
        {
          "output_type": "execute_result",
          "data": {
            "text/plain": [
              "65.3"
            ]
          },
          "metadata": {
            "tags": []
          },
          "execution_count": 126
        }
      ]
    },
    {
      "cell_type": "code",
      "metadata": {
        "colab": {
          "base_uri": "https://localhost:8080/"
        },
        "id": "AEG5lce0zDmO",
        "outputId": "3a532500-08ae-452a-80f6-c295d29219aa"
      },
      "source": [
        "# среднее квадратичное отклонение\n",
        "x = mean_sqrt_dev(a)\n",
        "x[0]"
      ],
      "execution_count": 127,
      "outputs": [
        {
          "output_type": "execute_result",
          "data": {
            "text/plain": [
              "30.823854398825596"
            ]
          },
          "metadata": {
            "tags": []
          },
          "execution_count": 127
        }
      ]
    },
    {
      "cell_type": "code",
      "metadata": {
        "colab": {
          "base_uri": "https://localhost:8080/"
        },
        "id": "1TPmjKKb1VBp",
        "outputId": "b55349f4-565e-4fd6-cf51-8dd61897eba9"
      },
      "source": [
        "# проверим встоенной функцией\n",
        "d = np.std(a)\n",
        "d"
      ],
      "execution_count": 128,
      "outputs": [
        {
          "output_type": "execute_result",
          "data": {
            "text/plain": [
              "30.823854398825596"
            ]
          },
          "metadata": {
            "tags": []
          },
          "execution_count": 128
        }
      ]
    },
    {
      "cell_type": "code",
      "metadata": {
        "colab": {
          "base_uri": "https://localhost:8080/"
        },
        "id": "ec9Td3401sIk",
        "outputId": "46c85e77-ea0e-461f-af2a-0354175131fd"
      },
      "source": [
        "# смещенная оценка дисперсии\n",
        "disp = pow(x[0], 2)\n",
        "disp"
      ],
      "execution_count": 129,
      "outputs": [
        {
          "output_type": "execute_result",
          "data": {
            "text/plain": [
              "950.11"
            ]
          },
          "metadata": {
            "tags": []
          },
          "execution_count": 129
        }
      ]
    },
    {
      "cell_type": "code",
      "metadata": {
        "colab": {
          "base_uri": "https://localhost:8080/"
        },
        "id": "d9Lo9Ymu2F5N",
        "outputId": "106f1304-cf60-4ba5-fb9f-c39c87e902ee"
      },
      "source": [
        "# проверим встоенной функцией\n",
        "np.var(a)"
      ],
      "execution_count": 130,
      "outputs": [
        {
          "output_type": "execute_result",
          "data": {
            "text/plain": [
              "950.11"
            ]
          },
          "metadata": {
            "tags": []
          },
          "execution_count": 130
        }
      ]
    },
    {
      "cell_type": "code",
      "metadata": {
        "colab": {
          "base_uri": "https://localhost:8080/"
        },
        "id": "qDmkGd4i2ZsM",
        "outputId": "6a00a223-80ee-42c0-9a21-dc0e213bbbf8"
      },
      "source": [
        "# несмещенная оценка дисперсии\n",
        "disp = pow(x[1], 2)\n",
        "disp"
      ],
      "execution_count": 131,
      "outputs": [
        {
          "output_type": "execute_result",
          "data": {
            "text/plain": [
              "1000.1157894736843"
            ]
          },
          "metadata": {
            "tags": []
          },
          "execution_count": 131
        }
      ]
    },
    {
      "cell_type": "code",
      "metadata": {
        "colab": {
          "base_uri": "https://localhost:8080/"
        },
        "id": "jT4y-pjN4MGo",
        "outputId": "9764852a-d7c3-469f-d86c-bc08f691960f"
      },
      "source": [
        "# проверим встоенной функцией\n",
        "np.var(a, ddof=1)"
      ],
      "execution_count": 132,
      "outputs": [
        {
          "output_type": "execute_result",
          "data": {
            "text/plain": [
              "1000.1157894736842"
            ]
          },
          "metadata": {
            "tags": []
          },
          "execution_count": 132
        }
      ]
    },
    {
      "cell_type": "markdown",
      "metadata": {
        "id": "ZZ2YHeLu4dw0"
      },
      "source": [
        "В первом ящике находится 8 мячей, из которых 5 - белые. Во втором ящике - 12 мячей, из которых 5 белых. Из первого ящика вытаскивают случайным образом два мяча, из второго - 4. Какова вероятность того, что 3 мяча белые?"
      ]
    },
    {
      "cell_type": "code",
      "metadata": {
        "id": "EySD1m2H4gD2"
      },
      "source": [
        "# 2 + 1\n",
        "result_1 = (combinations(5, 2) / combinations(8, 2)) * ((combinations(5, 1) * combinations(7, 3))/ combinations(12, 4))"
      ],
      "execution_count": 133,
      "outputs": []
    },
    {
      "cell_type": "code",
      "metadata": {
        "id": "2YIfGwWv-IxP"
      },
      "source": [
        "# 1 + 2\n",
        "result_2 =((combinations(5, 1) + combinations(3, 1)) / combinations(8, 2)) * ((combinations(5, 2) * combinations(7, 2))/ combinations(12, 4))"
      ],
      "execution_count": 134,
      "outputs": []
    },
    {
      "cell_type": "code",
      "metadata": {
        "id": "6AhMbpgd-hXc"
      },
      "source": [
        "# 0 + 3\n",
        "result_3 = (combinations(3, 3) / combinations(8, 2)) * ((combinations(5, 3) * combinations(7, 1))/ combinations(12, 4))"
      ],
      "execution_count": 135,
      "outputs": []
    },
    {
      "cell_type": "code",
      "metadata": {
        "colab": {
          "base_uri": "https://localhost:8080/"
        },
        "id": "F_fk9US___IJ",
        "outputId": "9909613e-eb66-4115-ad1f-6df53a475a2e"
      },
      "source": [
        "# вероятность того, что 3 мяча белые\n",
        "result = result_1 + result_2 + result_3\n",
        "result"
      ],
      "execution_count": 136,
      "outputs": [
        {
          "output_type": "execute_result",
          "data": {
            "text/plain": [
              "0.25252525252525254"
            ]
          },
          "metadata": {
            "tags": []
          },
          "execution_count": 136
        }
      ]
    },
    {
      "cell_type": "markdown",
      "metadata": {
        "id": "L9dFFTj4CXqS"
      },
      "source": [
        "На соревновании по биатлону один из трех спортсменов стреляет и попадает в мишень. Вероятность попадания для первого спортсмена равна 0.9, для второго — 0.8, для третьего — 0.6. Найти вероятность того, что выстрел произведен: a). первым спортсменом б). вторым спортсменом в). третьим спортсменом."
      ]
    },
    {
      "cell_type": "code",
      "metadata": {
        "colab": {
          "base_uri": "https://localhost:8080/"
        },
        "id": "acuU0r2NCbSW",
        "outputId": "9dffd147-4b02-4fda-9cf3-9faa50591197"
      },
      "source": [
        "# a). первым спортсменом\n",
        "0.9 / (0.9 + 0.8 + 0.6)"
      ],
      "execution_count": 137,
      "outputs": [
        {
          "output_type": "execute_result",
          "data": {
            "text/plain": [
              "0.3913043478260869"
            ]
          },
          "metadata": {
            "tags": []
          },
          "execution_count": 137
        }
      ]
    },
    {
      "cell_type": "code",
      "metadata": {
        "colab": {
          "base_uri": "https://localhost:8080/"
        },
        "id": "vyGF5X0eHlaR",
        "outputId": "4c2c35a3-e55c-4f54-e260-787d63091797"
      },
      "source": [
        "# б). вторым спортсменом\n",
        "0.8 / (0.9 + 0.8 + 0.6)"
      ],
      "execution_count": 138,
      "outputs": [
        {
          "output_type": "execute_result",
          "data": {
            "text/plain": [
              "0.34782608695652173"
            ]
          },
          "metadata": {
            "tags": []
          },
          "execution_count": 138
        }
      ]
    },
    {
      "cell_type": "code",
      "metadata": {
        "colab": {
          "base_uri": "https://localhost:8080/"
        },
        "id": "Rk4EsLEvHsNs",
        "outputId": "25c37ffd-fbed-4f17-8053-938ac0ea8d04"
      },
      "source": [
        "# в). третьим спортсменом.\n",
        "0.6 / (0.9 + 0.8 + 0.6)"
      ],
      "execution_count": 139,
      "outputs": [
        {
          "output_type": "execute_result",
          "data": {
            "text/plain": [
              "0.26086956521739124"
            ]
          },
          "metadata": {
            "tags": []
          },
          "execution_count": 139
        }
      ]
    },
    {
      "cell_type": "markdown",
      "metadata": {
        "id": "mAiwpUMwH3xx"
      },
      "source": [
        "В университет на факультеты A и B поступило равное количество студентов, а на факультет C студентов поступило столько же, сколько на A и B вместе. Вероятность того, что студент факультета A сдаст первую сессию, равна 0.8. Для студента факультета B эта вероятность равна 0.7, а для студента факультета C - 0.9. Студент сдал первую сессию. Какова вероятность, что он учится: a). на факультете A б). на факультете B в). на факультете C?"
      ]
    },
    {
      "cell_type": "code",
      "metadata": {
        "colab": {
          "base_uri": "https://localhost:8080/"
        },
        "id": "RqIHfauhH2ue",
        "outputId": "9a24d10b-6f12-4138-894d-d86dc5deb913"
      },
      "source": [
        "# a). на факультете A\n",
        "0.8 / (0.8 + 0.7 + 0.9 + 0.9)"
      ],
      "execution_count": 140,
      "outputs": [
        {
          "output_type": "execute_result",
          "data": {
            "text/plain": [
              "0.24242424242424246"
            ]
          },
          "metadata": {
            "tags": []
          },
          "execution_count": 140
        }
      ]
    },
    {
      "cell_type": "code",
      "metadata": {
        "colab": {
          "base_uri": "https://localhost:8080/"
        },
        "id": "B0LRffpHIyhi",
        "outputId": "2a31647f-8640-4a58-dbd2-c0e1fd2c78ed"
      },
      "source": [
        "# б). на факультете B\n",
        "0.7 / (0.8 + 0.7 + 0.9 + 0.9)"
      ],
      "execution_count": 141,
      "outputs": [
        {
          "output_type": "execute_result",
          "data": {
            "text/plain": [
              "0.21212121212121213"
            ]
          },
          "metadata": {
            "tags": []
          },
          "execution_count": 141
        }
      ]
    },
    {
      "cell_type": "code",
      "metadata": {
        "colab": {
          "base_uri": "https://localhost:8080/"
        },
        "id": "jys-uB9qI-hL",
        "outputId": "1da8ed09-368a-4f28-f556-511453805fc8"
      },
      "source": [
        "# б). на факультете C\n",
        "2 * 0.9 / (0.8 + 0.7 + 0.9 + 0.9)"
      ],
      "execution_count": 142,
      "outputs": [
        {
          "output_type": "execute_result",
          "data": {
            "text/plain": [
              "0.5454545454545455"
            ]
          },
          "metadata": {
            "tags": []
          },
          "execution_count": 142
        }
      ]
    },
    {
      "cell_type": "markdown",
      "metadata": {
        "id": "nM9rzI2PNYIi"
      },
      "source": [
        "Устройство состоит из трех деталей. Для первой детали вероятность выйти из строя в первый месяц равна 0.1, для второй - 0.2, для третьей - 0.25. Какова вероятность того, что в первый месяц выйдут из строя: а). все детали б). только две детали в). хотя бы одна деталь г). от одной до двух деталей?"
      ]
    },
    {
      "cell_type": "code",
      "metadata": {
        "colab": {
          "base_uri": "https://localhost:8080/"
        },
        "id": "twtLGisYNXwp",
        "outputId": "db75236a-9bae-4acd-83a7-525ba96f8e07"
      },
      "source": [
        "# а). все детали\n",
        "0.1 * 0.2 * 0.25"
      ],
      "execution_count": 143,
      "outputs": [
        {
          "output_type": "execute_result",
          "data": {
            "text/plain": [
              "0.005000000000000001"
            ]
          },
          "metadata": {
            "tags": []
          },
          "execution_count": 143
        }
      ]
    },
    {
      "cell_type": "code",
      "metadata": {
        "colab": {
          "base_uri": "https://localhost:8080/"
        },
        "id": "-HPEtPBWN-o7",
        "outputId": "2a3e1d13-efda-432d-a481-18db0ad10ece"
      },
      "source": [
        "# б). только две детали\n",
        "0.1 * 0.2 * 0.75 + 0.1 * 0.8 * 0.25 + 0.9 * 0.2 * 0.25"
      ],
      "execution_count": 144,
      "outputs": [
        {
          "output_type": "execute_result",
          "data": {
            "text/plain": [
              "0.08000000000000002"
            ]
          },
          "metadata": {
            "tags": []
          },
          "execution_count": 144
        }
      ]
    },
    {
      "cell_type": "code",
      "metadata": {
        "colab": {
          "base_uri": "https://localhost:8080/"
        },
        "id": "h3ZF7XjNO5Xk",
        "outputId": "2c8964cb-abea-4a51-c88a-6b086d739c7c"
      },
      "source": [
        "# в). хотя бы одна деталь\n",
        "0.1 + 0.2 + 0.25"
      ],
      "execution_count": 145,
      "outputs": [
        {
          "output_type": "execute_result",
          "data": {
            "text/plain": [
              "0.55"
            ]
          },
          "metadata": {
            "tags": []
          },
          "execution_count": 145
        }
      ]
    },
    {
      "cell_type": "code",
      "metadata": {
        "colab": {
          "base_uri": "https://localhost:8080/"
        },
        "id": "5QiyG4-jQFjW",
        "outputId": "4f67e24f-9f45-43ad-cb4e-54f74aec26bd"
      },
      "source": [
        "# г). от одной до двух деталей?\n",
        "(0.1 * 0.2 * 0.75 + 0.1 * 0.8 * 0.25 + 0.9 * 0.2 * 0.25) + (0.1 + 0.2 + 0.25)"
      ],
      "execution_count": 146,
      "outputs": [
        {
          "output_type": "execute_result",
          "data": {
            "text/plain": [
              "0.6300000000000001"
            ]
          },
          "metadata": {
            "tags": []
          },
          "execution_count": 146
        }
      ]
    }
  ]
}